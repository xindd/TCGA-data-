{
 "cells": [
  {
   "cell_type": "code",
   "execution_count": 1,
   "metadata": {},
   "outputs": [],
   "source": [
    "import urllib"
   ]
  },
  {
   "cell_type": "code",
   "execution_count": 2,
   "metadata": {},
   "outputs": [],
   "source": [
    "cancerlist = ['ACC', 'BLCA', 'BRCA', 'CESC', 'CHOL', 'COAD',\n",
    "             'DLBC', 'ESCA', 'GBM', 'HNSC', 'KICH', 'KIRC',\n",
    "             'KIRP', 'LGG', 'LIHC', 'LUAD', 'LUSC', 'MESO',\n",
    "             'OV', 'PAAD', 'PCPG', 'PRAD', 'READ', 'SARC',\n",
    "             'SKCM', 'STAD', 'TGCT', 'THCA', 'THYM', 'UCEC', 'UCS', 'UVM']"
   ]
  },
  {
   "cell_type": "code",
   "execution_count": 3,
   "metadata": {},
   "outputs": [
    {
     "name": "stdout",
     "output_type": "stream",
     "text": [
      "downloading...\n"
     ]
    }
   ],
   "source": [
    "print('downloading...')"
   ]
  },
  {
   "cell_type": "code",
   "execution_count": 4,
   "metadata": {
    "collapsed": true
   },
   "outputs": [
    {
     "name": "stdout",
     "output_type": "stream",
     "text": [
      "file:1, name:ACC\n",
      "file:2, name:BLCA\n",
      "file:3, name:BRCA\n",
      "file:4, name:CESC\n",
      "file:5, name:CHOL\n",
      "file:6, name:COAD\n",
      "file:7, name:DLBC\n",
      "file:8, name:ESCA\n",
      "file:9, name:GBM\n",
      "file:10, name:HNSC\n",
      "file:11, name:KICH\n",
      "file:12, name:KIRC\n",
      "file:13, name:KIRP\n",
      "file:14, name:LGG\n",
      "file:15, name:LIHC\n",
      "file:16, name:LUAD\n",
      "file:17, name:LUSC\n",
      "file:18, name:MESO\n",
      "file:19, name:OV\n",
      "file:20, name:PAAD\n",
      "file:21, name:PCPG\n",
      "file:22, name:PRAD\n",
      "file:23, name:READ\n",
      "file:24, name:SARC\n",
      "file:25, name:SKCM\n",
      "file:26, name:STDA\n",
      "file:26, name:STDA, error\n",
      "file:27, name:TGCT\n",
      "file:28, name:THCA\n",
      "file:29, name:THYM\n",
      "file:30, name:UCEC\n",
      "file:31, name:UCS\n",
      "file:31, name:UCS, error\n",
      "file:32, name:UVM\n"
     ]
    }
   ],
   "source": [
    "#url = 'https://gdc.xenahubs.net/download/TCGA-ACC.htseq_fpkm.tsv.gz'\n",
    "prefix = 'https://gdc.xenahubs.net/download/'\n",
    "db = 'TCGA'\n",
    "method = 'fpkm'\n",
    "for i, cancer in enumerate(cancerlist):\n",
    "    print(f'file:{i+1}, name:{cancer}')\n",
    "    try:\n",
    "        url = prefix + db + '-' + cancer + '.htseq_' + method + '.tsv.gz'\n",
    "        urllib.request.urlretrieve(url, '../data/fpkm/'+ db + '-' + cancer + '.htseq_' + method + '.tsv.gz')\n",
    "    except:\n",
    "        print(f'file:{i+1}, name:{cancer}, error')"
   ]
  },
  {
   "cell_type": "markdown",
   "metadata": {},
   "source": [
    "# files rename"
   ]
  },
  {
   "cell_type": "code",
   "execution_count": 8,
   "metadata": {},
   "outputs": [],
   "source": [
    "# import os\n",
    "# files=os.listdir('../data/fpkm')\n",
    "# for f in files:\n",
    "#     os.rename('../data/fpkm/'+ f, '../data/fpkm/'+f+'.gz')"
   ]
  },
  {
   "cell_type": "markdown",
   "metadata": {},
   "source": [
    "# tar "
   ]
  },
  {
   "cell_type": "code",
   "execution_count": 9,
   "metadata": {},
   "outputs": [],
   "source": [
    "import gzip"
   ]
  },
  {
   "cell_type": "code",
   "execution_count": 10,
   "metadata": {},
   "outputs": [],
   "source": [
    "def un_gz(file_name):\n",
    "    # 获取文件的名称，去掉后缀名\n",
    "    f_name = file_name.replace('.gz', '')\n",
    "    # 开始解压\n",
    "    g_file = gzip.GzipFile(file_name)\n",
    "    #读取解压后的文件，并写入去掉后缀名的同名文件（即得到解压后的文件）\n",
    "    open(f_name, 'wb+').write(g_file.read())"
   ]
  },
  {
   "cell_type": "code",
   "execution_count": 11,
   "metadata": {},
   "outputs": [],
   "source": [
    "files=os.listdir('../data/fpkm/')\n",
    "for f in files:\n",
    "    un_gz('../data/fpkm/' + f)"
   ]
  },
  {
   "cell_type": "code",
   "execution_count": 18,
   "metadata": {},
   "outputs": [],
   "source": [
    "# remove \n",
    "for f in files:\n",
    "    if f[-3:] == '.gz':\n",
    "        os.remove('../data/fpkm/' + f)"
   ]
  }
 ],
 "metadata": {
  "kernelspec": {
   "display_name": "Python 3",
   "language": "python",
   "name": "python3"
  },
  "language_info": {
   "codemirror_mode": {
    "name": "ipython",
    "version": 3
   },
   "file_extension": ".py",
   "mimetype": "text/x-python",
   "name": "python",
   "nbconvert_exporter": "python",
   "pygments_lexer": "ipython3",
   "version": "3.6.5"
  }
 },
 "nbformat": 4,
 "nbformat_minor": 2
}
